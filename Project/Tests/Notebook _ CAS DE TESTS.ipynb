{
 "cells": [
  {
   "cell_type": "markdown",
   "metadata": {
    "colab_type": "text",
    "id": "12URBFa0yULK"
   },
   "source": [
    "# Imports"
   ]
  },
  {
   "cell_type": "code",
   "execution_count": 56,
   "metadata": {
    "colab": {},
    "colab_type": "code",
    "id": "sXU99qaCyT8S"
   },
   "outputs": [],
   "source": [
    "import ctypes\n",
    "import matplotlib.pyplot as plt\n",
    "import numpy as np\n",
    "import sys\n",
    "sys.path.append('../Lib/PythonML')\n",
    "from linear import Linear\n",
    "from multicouche import MLP\n"
   ]
  },
  {
   "cell_type": "code",
   "execution_count": 57,
   "metadata": {},
   "outputs": [],
   "source": [
    "#my_dll_path = \"../mllib_rust.dll\"\n",
    "my_dll_path = \"../Lib/SupervisingML/target/debug/libmllib_rust.so\""
   ]
  },
  {
   "cell_type": "markdown",
   "metadata": {},
   "source": [
    "Fonctions "
   ]
  },
  {
   "cell_type": "code",
   "execution_count": 58,
   "metadata": {},
   "outputs": [],
   "source": [
    "def get_output(listy, positive_value, negative_value):\n",
    "    result = []\n",
    "    for y in listy:\n",
    "        if y == positive_value:\n",
    "            result.append(1)\n",
    "        elif y == negative_value:\n",
    "            result.append(-1)\n",
    "    return result\n",
    "\n",
    "def get_prediction_classification_echantillon(model, min_value, max_value):\n",
    "    test_points = np.array([[i, j] for i in range(50) for j in range(50)], dtype='float64') / 50.0 * (max_value - min_value) + min_value\n",
    "    negative_points = []\n",
    "    positive_points = []\n",
    "    for k, test_input_k in enumerate(test_points):\n",
    "        predicted_value = model.predict_linear_model_classification(test_input_k)\n",
    "        if predicted_value == 1.0:\n",
    "            positive_points.append(test_input_k)\n",
    "        else:\n",
    "            negative_points.append(test_input_k)\n",
    "            \n",
    "    return (np.array(positive_points), np.array(negative_points))\n",
    "\n",
    "def echantillon_prediction_classification_mlp(model, min_value, max_value):\n",
    "    test_points = np.array([[i, j] for i in range(50) for j in range(50)], dtype='float64') / 50.0 * (max_value - min_value) + min_value\n",
    "    negative_points = []\n",
    "    positive_points = []\n",
    "    for k, test_input_k in enumerate(test_points):\n",
    "        predicted_value = model.predict_multicouche_model_classification(test_input_k)[0]\n",
    "        if predicted_value > 0.0:\n",
    "            positive_points.append(test_input_k)\n",
    "        else:\n",
    "            negative_points.append(test_input_k)\n",
    "\n",
    "    return (np.array(positive_points), np.array(negative_points))\n",
    "\n",
    "def outputs_prediction_classification_mlp(model, min_value, max_value, nb_output):\n",
    "    test_points = np.array([[i, j] for i in range(50) for j in range(50)], dtype='float64') / 50.0 * (max_value - min_value) + min_value\n",
    "    result = []\n",
    "    for test_input_k in test_points:\n",
    "        predicted_value = model.predict_multicouche_model_classification(test_input_k)\n",
    "        result.append([predicted_value[i] for i in range(nb_output)])\n",
    "    return result\n",
    "    "
   ]
  },
  {
   "cell_type": "markdown",
   "metadata": {
    "colab_type": "text",
    "id": "MlaksdgDxaA6"
   },
   "source": [
    "# Cas de tests, rendu 3"
   ]
  },
  {
   "cell_type": "markdown",
   "metadata": {
    "colab_type": "text",
    "id": "_qYwTgKqxnkl"
   },
   "source": [
    "## Classification"
   ]
  },
  {
   "cell_type": "markdown",
   "metadata": {
    "colab_type": "text",
    "id": "-d0zULTsyFhh"
   },
   "source": [
    "### Linear Simple :\n",
    "        Linear Model : OK\n",
    "        MLP (2, 1)   : OK"
   ]
  },
  {
   "cell_type": "code",
   "execution_count": 59,
   "metadata": {
    "colab": {},
    "colab_type": "code",
    "id": "EktwRhEMxV2A"
   },
   "outputs": [],
   "source": [
    "X = np.array([\n",
    "      [1, 1],\n",
    "      [2, 3],\n",
    "      [3, 3]\n",
    "], dtype='float64')\n",
    "Y = np.array([\n",
    "      1,\n",
    "      -1,\n",
    "      -1\n",
    "], dtype='float64')\n",
    "flattened_X = X.flatten()"
   ]
  },
  {
   "cell_type": "code",
   "execution_count": 60,
   "metadata": {},
   "outputs": [
    {
     "ename": "OSError",
     "evalue": "[WinError 126] Le module spécifié est introuvable",
     "output_type": "error",
     "traceback": [
      "\u001B[1;31m---------------------------------------------------------------------------\u001B[0m",
      "\u001B[1;31mOSError\u001B[0m                                   Traceback (most recent call last)",
      "\u001B[1;32m<ipython-input-60-612d0f6efa15>\u001B[0m in \u001B[0;36m<module>\u001B[1;34m\u001B[0m\n\u001B[1;32m----> 1\u001B[1;33m \u001B[0mlinearMod\u001B[0m \u001B[1;33m=\u001B[0m \u001B[0mLinear\u001B[0m\u001B[1;33m(\u001B[0m\u001B[0mmy_dll_path\u001B[0m\u001B[1;33m)\u001B[0m\u001B[1;33m\u001B[0m\u001B[1;33m\u001B[0m\u001B[0m\n\u001B[0m\u001B[0;32m      2\u001B[0m \u001B[0mlinearMod\u001B[0m\u001B[1;33m.\u001B[0m\u001B[0minit_linear_model\u001B[0m\u001B[1;33m(\u001B[0m\u001B[0mX\u001B[0m\u001B[1;33m.\u001B[0m\u001B[0mshape\u001B[0m\u001B[1;33m[\u001B[0m\u001B[1;36m1\u001B[0m\u001B[1;33m]\u001B[0m\u001B[1;33m)\u001B[0m\u001B[1;33m\u001B[0m\u001B[1;33m\u001B[0m\u001B[0m\n\u001B[0;32m      3\u001B[0m \u001B[0mlinearMod\u001B[0m\u001B[1;33m.\u001B[0m\u001B[0mtrain_linear_model_classification\u001B[0m\u001B[1;33m(\u001B[0m\u001B[0mflattened_X\u001B[0m\u001B[1;33m,\u001B[0m \u001B[0mY\u001B[0m\u001B[1;33m,\u001B[0m \u001B[0mX\u001B[0m\u001B[1;33m.\u001B[0m\u001B[0mshape\u001B[0m\u001B[1;33m[\u001B[0m\u001B[1;36m0\u001B[0m\u001B[1;33m]\u001B[0m\u001B[1;33m,\u001B[0m \u001B[1;36m10000\u001B[0m\u001B[1;33m,\u001B[0m \u001B[1;36m0.05\u001B[0m\u001B[1;33m)\u001B[0m\u001B[1;33m\u001B[0m\u001B[1;33m\u001B[0m\u001B[0m\n\u001B[0;32m      4\u001B[0m \u001B[0mblue_points\u001B[0m\u001B[1;33m,\u001B[0m \u001B[0mred_points\u001B[0m \u001B[1;33m=\u001B[0m \u001B[0mget_prediction_classification_echantillon\u001B[0m\u001B[1;33m(\u001B[0m\u001B[0mlinearMod\u001B[0m\u001B[1;33m,\u001B[0m \u001B[1;36m1.0\u001B[0m\u001B[1;33m,\u001B[0m \u001B[1;36m3.0\u001B[0m\u001B[1;33m)\u001B[0m\u001B[1;33m\u001B[0m\u001B[1;33m\u001B[0m\u001B[0m\n\u001B[0;32m      5\u001B[0m \u001B[1;33m\u001B[0m\u001B[0m\n",
      "\u001B[1;32mD:\\Dev\\Instrument-Classification\\Project\\Tests\\linear.py\u001B[0m in \u001B[0;36m__init__\u001B[1;34m(self, dll_path)\u001B[0m\n\u001B[0;32m      4\u001B[0m \u001B[1;32mclass\u001B[0m \u001B[0mLinear\u001B[0m\u001B[1;33m:\u001B[0m\u001B[1;33m\u001B[0m\u001B[1;33m\u001B[0m\u001B[0m\n\u001B[0;32m      5\u001B[0m     \u001B[1;32mdef\u001B[0m \u001B[0m__init__\u001B[0m\u001B[1;33m(\u001B[0m\u001B[0mself\u001B[0m\u001B[1;33m,\u001B[0m \u001B[0mdll_path\u001B[0m\u001B[1;33m)\u001B[0m\u001B[1;33m:\u001B[0m\u001B[1;33m\u001B[0m\u001B[1;33m\u001B[0m\u001B[0m\n\u001B[1;32m----> 6\u001B[1;33m         \u001B[0mself\u001B[0m\u001B[1;33m.\u001B[0m\u001B[0mlib\u001B[0m \u001B[1;33m=\u001B[0m \u001B[0mctypes\u001B[0m\u001B[1;33m.\u001B[0m\u001B[0mCDLL\u001B[0m\u001B[1;33m(\u001B[0m\u001B[0mdll_path\u001B[0m\u001B[1;33m)\u001B[0m\u001B[1;33m\u001B[0m\u001B[1;33m\u001B[0m\u001B[0m\n\u001B[0m\u001B[0;32m      7\u001B[0m         \u001B[0mself\u001B[0m\u001B[1;33m.\u001B[0m\u001B[0minitialize_rust_functions\u001B[0m\u001B[1;33m(\u001B[0m\u001B[1;33m)\u001B[0m\u001B[1;33m\u001B[0m\u001B[1;33m\u001B[0m\u001B[0m\n\u001B[0;32m      8\u001B[0m         \u001B[0mself\u001B[0m\u001B[1;33m.\u001B[0m\u001B[0mmodel\u001B[0m \u001B[1;33m=\u001B[0m \u001B[1;32mNone\u001B[0m\u001B[1;33m\u001B[0m\u001B[1;33m\u001B[0m\u001B[0m\n",
      "\u001B[1;32m~\\Anaconda3\\envs\\Tensorflow21\\lib\\ctypes\\__init__.py\u001B[0m in \u001B[0;36m__init__\u001B[1;34m(self, name, mode, handle, use_errno, use_last_error)\u001B[0m\n\u001B[0;32m    362\u001B[0m \u001B[1;33m\u001B[0m\u001B[0m\n\u001B[0;32m    363\u001B[0m         \u001B[1;32mif\u001B[0m \u001B[0mhandle\u001B[0m \u001B[1;32mis\u001B[0m \u001B[1;32mNone\u001B[0m\u001B[1;33m:\u001B[0m\u001B[1;33m\u001B[0m\u001B[1;33m\u001B[0m\u001B[0m\n\u001B[1;32m--> 364\u001B[1;33m             \u001B[0mself\u001B[0m\u001B[1;33m.\u001B[0m\u001B[0m_handle\u001B[0m \u001B[1;33m=\u001B[0m \u001B[0m_dlopen\u001B[0m\u001B[1;33m(\u001B[0m\u001B[0mself\u001B[0m\u001B[1;33m.\u001B[0m\u001B[0m_name\u001B[0m\u001B[1;33m,\u001B[0m \u001B[0mmode\u001B[0m\u001B[1;33m)\u001B[0m\u001B[1;33m\u001B[0m\u001B[1;33m\u001B[0m\u001B[0m\n\u001B[0m\u001B[0;32m    365\u001B[0m         \u001B[1;32melse\u001B[0m\u001B[1;33m:\u001B[0m\u001B[1;33m\u001B[0m\u001B[1;33m\u001B[0m\u001B[0m\n\u001B[0;32m    366\u001B[0m             \u001B[0mself\u001B[0m\u001B[1;33m.\u001B[0m\u001B[0m_handle\u001B[0m \u001B[1;33m=\u001B[0m \u001B[0mhandle\u001B[0m\u001B[1;33m\u001B[0m\u001B[1;33m\u001B[0m\u001B[0m\n",
      "\u001B[1;31mOSError\u001B[0m: [WinError 126] Le module spécifié est introuvable"
     ]
    }
   ],
   "source": [
    "linearMod = Linear(my_dll_path)\n",
    "linearMod.init_linear_model(X.shape[1])\n",
    "linearMod.train_linear_model_classification(flattened_X, Y, X.shape[0], 10000, 0.05)\n",
    "blue_points, red_points = get_prediction_classification_echantillon(linearMod, 1.0, 3.0)\n",
    "\n",
    "if len(red_points) > 0:\n",
    "    plt.scatter(red_points[:, 0], red_points[:, 1], color='red', alpha=0.5, s=2)\n",
    "if len(blue_points) > 0:\n",
    "    plt.scatter(blue_points[:, 0], blue_points[:, 1], color='blue', alpha=0.5, s=2)\n",
    "    \n",
    "plt.scatter(X[0, 0], X[0, 1], color='blue', s=10)\n",
    "plt.scatter(X[1:3, 0], X[1:3, 1], color='red', s=10)\n",
    "plt.show()\n",
    "plt.clf()"
   ]
  },
  {
   "cell_type": "code",
   "execution_count": 51,
   "metadata": {},
   "outputs": [
    {
     "data": {
      "image/png": "[encoded data removed]",
      "text/plain": [
       "<Figure size 432x288 with 1 Axes>"
      ]
     },
     "metadata": {
      "needs_background": "light"
     },
     "output_type": "display_data"
    },
    {
     "data": {
      "text/plain": [
       "<Figure size 432x288 with 0 Axes>"
      ]
     },
     "metadata": {},
     "output_type": "display_data"
    }
   ],
   "source": [
    "mlpMod = MLP(my_dll_path)\n",
    "mlpMod.init_multicouche_model(np.array([2,1], dtype='float64'))\n",
    "mlpMod.train_multicouche_model_classification(flattened_X, Y, X.shape[0], 1000.0, 0.1)\n",
    "\n",
    "blue_points, red_points = echantillon_prediction_classification_mlp(mlpMod, 1.0, 3.0)\n",
    "\n",
    "if len(red_points) > 0:\n",
    "    plt.scatter(red_points[:, 0], red_points[:, 1], color='red', alpha=0.5, s=2)\n",
    "if len(blue_points) > 0:\n",
    "    plt.scatter(blue_points[:, 0], blue_points[:, 1], color='blue', alpha=0.5, s=2)\n",
    "    \n",
    "plt.scatter(X[0, 0], X[0, 1], color='blue', s=10)\n",
    "plt.scatter(X[1:3, 0], X[1:3, 1], color='red', s=10)\n",
    "plt.show()\n",
    "plt.clf()"
   ]
  },
  {
   "cell_type": "markdown",
   "metadata": {
    "colab_type": "text",
    "id": "7v8KFue-zmCv"
   },
   "source": [
    "### Linear Multiple :\n",
    "        Linear Model : OK\n",
    "        MLP (2, 1)   : OK"
   ]
  },
  {
   "cell_type": "code",
   "execution_count": null,
   "metadata": {
    "colab": {},
    "colab_type": "code",
    "id": "hZlnpb-qzmCw"
   },
   "outputs": [],
   "source": [
    "X = np.concatenate([np.random.random((50,2)) * 0.9 + np.array([1, 1]), np.random.random((50,2)) * 0.9 + np.array([2, 2])])\n",
    "Y = np.concatenate([np.ones((25, 2)), np.ones((25, 2)) * -1.0])"
   ]
  },
  {
   "cell_type": "code",
   "execution_count": null,
   "metadata": {
    "colab": {
     "base_uri": "https://localhost:8080/",
     "height": 287
    },
    "colab_type": "code",
    "id": "a6e8GdL_zmCx",
    "outputId": "516ff082-0c88-42de-ab36-5ee33e1a3210"
   },
   "outputs": [],
   "source": [
    "linearMod = Linear(my_dll_path)\n",
    "linearMod.init_linear_model(2)\n",
    "flattened_X = X.flatten()\n",
    "\n",
    "linearMod.train_linear_model_classification(flattened_X, Y, X.shape[0], 1000, 0.1)\n",
    "blue_points, red_points = get_prediction_classification_echantillon(linearMod, 1.0, 3.0)\n",
    "\n",
    "if len(red_points) > 0:\n",
    "    plt.scatter(red_points[:, 0], red_points[:, 1], color='red', alpha=0.5, s=2)\n",
    "if len(blue_points) > 0:\n",
    "    plt.scatter(blue_points[:, 0], blue_points[:, 1], color='blue', alpha=0.5, s=2)\n",
    "    \n",
    "plt.scatter(X[0:50, 0], X[0:50, 1], color='blue')\n",
    "plt.scatter(X[50:100,0], X[50:100,1], color='red')\n",
    "plt.show()\n",
    "plt.clf()"
   ]
  },
  {
   "cell_type": "code",
   "execution_count": 40,
   "metadata": {},
   "outputs": [
    {
     "data": {
      "image/png": "[encoded data removed]",
      "text/plain": [
       "<Figure size 432x288 with 1 Axes>"
      ]
     },
     "metadata": {
      "needs_background": "light"
     },
     "output_type": "display_data"
    },
    {
     "data": {
      "text/plain": [
       "<Figure size 432x288 with 0 Axes>"
      ]
     },
     "metadata": {},
     "output_type": "display_data"
    }
   ],
   "source": [
    "mlpMod = MLP(my_dll_path)\n",
    "mlpMod.init_multicouche_model(np.array([2,1], dtype='float64'))\n",
    "flattened_X = X.flatten()\n",
    "mlpMod.train_multicouche_model_classification(flattened_X, Y, X.shape[0], 4000.0, 0.05)\n",
    "\n",
    "blue_points, red_points = echantillon_prediction_classification_mlp(mlpMod, 1.0, 3.0)\n",
    "\n",
    "if len(red_points) > 0:\n",
    "    plt.scatter(red_points[:, 0], red_points[:, 1], color='red', alpha=0.5, s=2)\n",
    "if len(blue_points) > 0:\n",
    "    plt.scatter(blue_points[:, 0], blue_points[:, 1], color='blue', alpha=0.5, s=2)\n",
    "    \n",
    "plt.scatter(X[0:50, 0], X[0:50, 1], color='blue')\n",
    "plt.scatter(X[50:100,0], X[50:100,1], color='red')\n",
    "plt.show()\n",
    "plt.clf()"
   ]
  },
  {
   "cell_type": "markdown",
   "metadata": {
    "colab_type": "text",
    "id": "gZlONmsp1T_W"
   },
   "source": [
    "### XOR :\n",
    "        Linear Model    : KO\n",
    "        MLP (2, 2, 1)   : OK"
   ]
  },
  {
   "cell_type": "code",
   "execution_count": null,
   "metadata": {
    "colab": {},
    "colab_type": "code",
    "id": "673wfC9U1T_W"
   },
   "outputs": [],
   "source": [
    "X = np.array([[1, 0], [0, 1], [0, 0], [1, 1]], dtype='float64')\n",
    "Y = np.array([1, 1, -1, -1], dtype='float64')"
   ]
  },
  {
   "cell_type": "code",
   "execution_count": null,
   "metadata": {
    "colab": {
     "base_uri": "https://localhost:8080/",
     "height": 287
    },
    "colab_type": "code",
    "id": "uA3E-h801T_Y",
    "outputId": "70a25086-29b7-46ce-fa08-bd8bc69baf4b"
   },
   "outputs": [],
   "source": [
    "linearMod = Linear(my_dll_path)\n",
    "linearMod.init_linear_model(2)\n",
    "flattened_X = X.flatten()\n",
    "linearMod.train_linear_model_classification(flattened_X, Y, X.shape[0], 1000, 0.1)\n",
    "blue_points, red_points = get_prediction_classification_echantillon(linearMod, 0.0, 1.0)\n",
    "\n",
    "if len(red_points) > 0:\n",
    "    plt.scatter(red_points[:, 0], red_points[:, 1], color='red', alpha=0.5, s=2)\n",
    "if len(blue_points) > 0:\n",
    "    plt.scatter(blue_points[:, 0], blue_points[:, 1], color='blue', alpha=0.5, s=2)\n",
    "\n",
    "plt.scatter(X[0:2, 0], X[0:2, 1], color='blue')\n",
    "plt.scatter(X[2:4,0], X[2:4,1], color='red')\n",
    "plt.show()\n",
    "plt.clf()"
   ]
  },
  {
   "cell_type": "code",
   "execution_count": 45,
   "metadata": {},
   "outputs": [
    {
     "data": {
      "image/png": "[encoded data removed]",
      "text/plain": [
       "<Figure size 432x288 with 1 Axes>"
      ]
     },
     "metadata": {
      "needs_background": "light"
     },
     "output_type": "display_data"
    },
    {
     "data": {
      "text/plain": [
       "<Figure size 432x288 with 0 Axes>"
      ]
     },
     "metadata": {},
     "output_type": "display_data"
    }
   ],
   "source": [
    "flattened_X = X.flatten()\n",
    "\n",
    "mlpMod = MLP(my_dll_path)\n",
    "mlpMod.init_multicouche_model(np.array([2, 2, 1], dtype='float64'))\n",
    "mlpMod.train_multicouche_model_classification(flattened_X, Y, X.shape[0], 4000.0, 0.05)\n",
    "\n",
    "blue_points, red_points = echantillon_prediction_classification_mlp(mlpMod, 0.0, 1.0)\n",
    "\n",
    "if len(red_points) > 0:\n",
    "    plt.scatter(red_points[:, 0], red_points[:, 1], color='red', alpha=0.5, s=2)\n",
    "if len(blue_points) > 0:\n",
    "    plt.scatter(blue_points[:, 0], blue_points[:, 1], color='blue', alpha=0.5, s=2)\n",
    "\n",
    "plt.scatter(X[0:2, 0], X[0:2, 1], color='blue')\n",
    "plt.scatter(X[2:4,0], X[2:4,1], color='red')\n",
    "plt.show()\n",
    "plt.clf()"
   ]
  },
  {
   "cell_type": "markdown",
   "metadata": {
    "colab_type": "text",
    "id": "5qxkXVo02MpM"
   },
   "source": [
    "### Cross :\n",
    "        Linear Model    : KO\n",
    "        MLP (2, 4, 1)   : OK"
   ]
  },
  {
   "cell_type": "code",
   "execution_count": null,
   "metadata": {
    "colab": {},
    "colab_type": "code",
    "id": "7kkrrfnX2MpM"
   },
   "outputs": [],
   "source": [
    "X = np.random.random((500, 2)) * 2.0 - 1.0\n",
    "Y = np.array([1 if abs(p[0]) <= 0.3 or abs(p[1]) <= 0.3 else -1 for p in X], dtype='float64')"
   ]
  },
  {
   "cell_type": "code",
   "execution_count": null,
   "metadata": {
    "colab": {
     "base_uri": "https://localhost:8080/",
     "height": 287
    },
    "colab_type": "code",
    "id": "zVBAE2fY2MpO",
    "outputId": "46b434a6-2fd8-492e-c080-14b0d0028968"
   },
   "outputs": [],
   "source": [
    "linearMod = Linear(my_dll_path)\n",
    "linearMod.init_linear_model(2)\n",
    "flattened_X = X.flatten()\n",
    "linearMod.train_linear_model_classification(flattened_X, Y, X.shape[0], 1000, 0.1)\n",
    "blue_points, red_points = get_prediction_classification_echantillon(linearMod, -1.0, 1.0)\n",
    "\n",
    "if len(red_points) > 0:\n",
    "    plt.scatter(red_points[:, 0], red_points[:, 1], color='red', alpha=0.5, s=2)\n",
    "if len(blue_points) > 0:\n",
    "    plt.scatter(blue_points[:, 0], blue_points[:, 1], color='blue', alpha=0.5, s=2)\n",
    "\n",
    "\n",
    "plt.scatter(np.array(list(map(lambda elt : elt[1], filter(lambda c: Y[c[0]] == 1, enumerate(X)))))[:,0], np.array(list(map(lambda elt : elt[1], filter(lambda c: Y[c[0]] == 1, enumerate(X)))))[:,1], color='blue')\n",
    "plt.scatter(np.array(list(map(lambda elt : elt[1], filter(lambda c: Y[c[0]] == -1, enumerate(X)))))[:,0], np.array(list(map(lambda elt : elt[1], filter(lambda c: Y[c[0]] == -1, enumerate(X)))))[:,1], color='red')\n",
    "plt.show()\n",
    "plt.clf()"
   ]
  },
  {
   "cell_type": "markdown",
   "metadata": {
    "colab_type": "text",
    "id": "v4hhnYge928d"
   },
   "source": [
    "### Multi Linear 3 classes :\n",
    "        Linear Model x3 : OK\n",
    "        MLP (2, 3)      : OK"
   ]
  },
  {
   "cell_type": "code",
   "execution_count": null,
   "metadata": {
    "colab": {},
    "colab_type": "code",
    "id": "IvhvqkDw928q"
   },
   "outputs": [],
   "source": [
    "X = np.random.random((500, 2)) * 2.0 - 1.0\n",
    "Y = np.array([[1, 0, 0] if -p[0] - p[1] - 0.5 > 0 and p[1] < 0 and p[0] - p[1] - 0.5 < 0 else \n",
    "              [0, 1, 0] if -p[0] - p[1] - 0.5 < 0 and p[1] > 0 and p[0] - p[1] - 0.5 < 0 else \n",
    "              [0, 0, 1] if -p[0] - p[1] - 0.5 < 0 and p[1] < 0 and p[0] - p[1] - 0.5 > 0 else \n",
    "              [0, 0, 0]for p in X])"
   ]
  },
  {
   "cell_type": "code",
   "execution_count": null,
   "metadata": {
    "colab": {
     "base_uri": "https://localhost:8080/",
     "height": 287
    },
    "colab_type": "code",
    "id": "4aqzcUlJ928s",
    "outputId": "71df307b-e9c9-4a2d-a942-b75e3a141e46",
    "scrolled": true
   },
   "outputs": [],
   "source": [
    "comparaisons = [\n",
    "    [[1,0,0], [0,1,0]],\n",
    "    [[0,0,1], [0,1,0]],\n",
    "    [[1,0,0], [0,0,1]]\n",
    "]\n",
    "\n",
    "for comparaison in comparaisons:\n",
    "    input_x = np.array([X[i] for (i,y) in enumerate(Y.tolist()) if y in comparaison], dtype='float64')\n",
    "    output_y = np.array(get_output(Y.tolist(), comparaison[0], comparaison[1]), dtype='float64')\n",
    "    flattened_input = input_x.flatten()\n",
    "   \n",
    "    model = Linear(my_dll_path)\n",
    "    model.init_linear_model(2)\n",
    "    model.train_linear_model_classification(flattened_input, output_y, output_y.shape[0], 10000, 0.1)\n",
    "    blue_points, red_points = get_prediction_classification_echantillon(model, -1.0, 1.0)\n",
    "    \n",
    "    if len(red_points) > 0:\n",
    "        plt.scatter(red_points[:, 0], red_points[:, 1], color='red', alpha=0.5, s=2)\n",
    "    if len(blue_points) > 0:\n",
    "        plt.scatter(blue_points[:, 0], blue_points[:, 1], color='blue', alpha=0.5, s=2)\n",
    "\n",
    "    plt.scatter(np.array(list(map(lambda elt : elt[1], filter(lambda c: Y[c[0]][0] == 1, enumerate(X)))))[:,0], np.array(list(map(lambda elt : elt[1], filter(lambda c: Y[c[0]][0] == 1, enumerate(X)))))[:,1], color='blue')\n",
    "    plt.scatter(np.array(list(map(lambda elt : elt[1], filter(lambda c: Y[c[0]][1] == 1, enumerate(X)))))[:,0], np.array(list(map(lambda elt : elt[1], filter(lambda c: Y[c[0]][1] == 1, enumerate(X)))))[:,1], color='red')\n",
    "    plt.scatter(np.array(list(map(lambda elt : elt[1], filter(lambda c: Y[c[0]][2] == 1, enumerate(X)))))[:,0], np.array(list(map(lambda elt : elt[1], filter(lambda c: Y[c[0]][2] == 1, enumerate(X)))))[:,1], color='green')\n",
    "    plt.show()\n",
    "    plt.clf()"
   ]
  },
  {
   "cell_type": "code",
   "execution_count": 203,
   "metadata": {},
   "outputs": [
    {
     "data": {
      "image/png": "[encoded data removed]",
      "text/plain": [
       "<Figure size 432x288 with 1 Axes>"
      ]
     },
     "metadata": {
      "needs_background": "light"
     },
     "output_type": "display_data"
    },
    {
     "data": {
      "text/plain": [
       "<Figure size 432x288 with 0 Axes>"
      ]
     },
     "metadata": {},
     "output_type": "display_data"
    }
   ],
   "source": [
    "mlpMod = MLP(my_dll_path)\n",
    "mlpMod.init_multicouche_model(np.array([2, 3], dtype='float64'))\n",
    "mlpMod.train_multicouche_model_classification(np.array(X.flatten(), dtype='float64'), np.array(Y.flatten(), dtype='float64'), X.shape[0], 50000.0, 0.02)\n",
    "\n",
    "def max_indice(values):\n",
    "    max_value = values[0]\n",
    "    max_ind = 0\n",
    "    for i in range(1, len(values)):\n",
    "        if values[i] > max_value:\n",
    "            max_ind = i\n",
    "            max_value = values[i]\n",
    "    return max_ind\n",
    "\n",
    "blue_points = []\n",
    "red_points = []\n",
    "green_points = []\n",
    "test_points = np.array([[i, j] for i in range(50) for j in range(50)], dtype='float64') / 50.0 * 2.0 - 1.0\n",
    "for j,point in enumerate(test_points):\n",
    "    predicted_value = mlpMod.predict_multicouche_model_classification(point)\n",
    "    predicted_list = [predicted_value[i] for i in range(3)]\n",
    "    #print(predicted_list)\n",
    "    max_ind = max_indice(predicted_list)\n",
    "    \n",
    "    if max_ind == 0:\n",
    "        blue_points.append(point) \n",
    "    elif max_ind == 1:\n",
    "        red_points.append(point) \n",
    "    elif max_ind == 2:\n",
    "        green_points.append(point) \n",
    "\n",
    "blue_points = np.array(blue_points)\n",
    "red_points = np.array(red_points)\n",
    "green_points = np.array(green_points)\n",
    "\n",
    "if len(red_points) > 0:\n",
    "    plt.scatter(red_points[:, 0], red_points[:, 1], color='red', alpha=0.5, s=2)\n",
    "if len(blue_points) > 0:\n",
    "    plt.scatter(blue_points[:, 0], blue_points[:, 1], color='blue', alpha=0.5, s=2)\n",
    "if len(green_points) > 0:\n",
    "    plt.scatter(green_points[:, 0], green_points[:, 1], color='green', alpha=0.5, s=2)\n",
    "\n",
    "\n",
    "plt.scatter(np.array(list(map(lambda elt : elt[1], filter(lambda c: Y[c[0]][0] == 1, enumerate(X)))))[:,0], np.array(list(map(lambda elt : elt[1], filter(lambda c: Y[c[0]][0] == 1, enumerate(X)))))[:,1], color='blue')\n",
    "plt.scatter(np.array(list(map(lambda elt : elt[1], filter(lambda c: Y[c[0]][1] == 1, enumerate(X)))))[:,0], np.array(list(map(lambda elt : elt[1], filter(lambda c: Y[c[0]][1] == 1, enumerate(X)))))[:,1], color='red')\n",
    "plt.scatter(np.array(list(map(lambda elt : elt[1], filter(lambda c: Y[c[0]][2] == 1, enumerate(X)))))[:,0], np.array(list(map(lambda elt : elt[1], filter(lambda c: Y[c[0]][2] == 1, enumerate(X)))))[:,1], color='green')\n",
    "plt.show()\n",
    "plt.clf()"
   ]
  },
  {
   "cell_type": "markdown",
   "metadata": {
    "colab_type": "text",
    "id": "uKFBx2m066i2"
   },
   "source": [
    "### Multi Cross :\n",
    "        Linear Model x3 : KO\n",
    "        MLP (2, ?, ?, 3): OK"
   ]
  },
  {
   "cell_type": "code",
   "execution_count": null,
   "metadata": {
    "colab": {},
    "colab_type": "code",
    "id": "0ZE8OW-K66i5"
   },
   "outputs": [],
   "source": [
    "X = np.random.random((1000, 2)) * 2.0 - 1.0\n",
    "Y = np.array([[1, 0, 0] if abs(p[0] % 0.5) <= 0.25 and abs(p[1] % 0.5) > 0.25 else [0, 1, 0] if abs(p[0] % 0.5) > 0.25 and abs(p[1] % 0.5) <= 0.25 else [0, 0, 1] for p in X])"
   ]
  },
  {
   "cell_type": "code",
   "execution_count": null,
   "metadata": {
    "colab": {
     "base_uri": "https://localhost:8080/",
     "height": 287
    },
    "colab_type": "code",
    "id": "55U95UMS66i6",
    "outputId": "f14df72f-c2c1-4498-9668-f91f29594b06"
   },
   "outputs": [],
   "source": [
    "comparaisons = [\n",
    "    [[1,0,0], [0,1,0]],\n",
    "    [[0,0,1], [0,1,0]],\n",
    "    [[1,0,0], [0,0,1]]\n",
    "]\n",
    "\n",
    "for comparaison in comparaisons:\n",
    "    input_x = np.array([X[i] for (i,y) in enumerate(Y.tolist()) if y in comparaison], dtype='float64')\n",
    "    output_y = np.array(get_output(Y.tolist(), comparaison[0], comparaison[1]), dtype='float64')\n",
    "    flattened_input = input_x.flatten()\n",
    "\n",
    "    model = Linear(my_dll_path)\n",
    "    model.init_linear_model(2)\n",
    "    model.train_linear_model_classification(flattened_input, output_y, output_y.shape[0], 10000, 0.1)\n",
    "    blue_points, red_points = get_prediction_classification_echantillon(model, -1.0, 1.0)\n",
    "    \n",
    "    if len(red_points) > 0:\n",
    "        plt.scatter(red_points[:, 0], red_points[:, 1], color='red', alpha=0.5, s=2)\n",
    "    if len(blue_points) > 0:\n",
    "        plt.scatter(blue_points[:, 0], blue_points[:, 1], color='blue', alpha=0.5, s=2)\n",
    "\n",
    "    plt.scatter(np.array(list(map(lambda elt : elt[1], filter(lambda c: Y[c[0]][0] == 1, enumerate(X)))))[:,0], np.array(list(map(lambda elt : elt[1], filter(lambda c: Y[c[0]][0] == 1, enumerate(X)))))[:,1], color='blue')\n",
    "    plt.scatter(np.array(list(map(lambda elt : elt[1], filter(lambda c: Y[c[0]][1] == 1, enumerate(X)))))[:,0], np.array(list(map(lambda elt : elt[1], filter(lambda c: Y[c[0]][1] == 1, enumerate(X)))))[:,1], color='red')\n",
    "    plt.scatter(np.array(list(map(lambda elt : elt[1], filter(lambda c: Y[c[0]][2] == 1, enumerate(X)))))[:,0], np.array(list(map(lambda elt : elt[1], filter(lambda c: Y[c[0]][2] == 1, enumerate(X)))))[:,1], color='green')\n",
    "    plt.show()\n",
    "    plt.clf()"
   ]
  },
  {
   "cell_type": "markdown",
   "metadata": {
    "colab_type": "text",
    "id": "zyrivJMK_WOQ"
   },
   "source": [
    "## Régression"
   ]
  },
  {
   "cell_type": "markdown",
   "metadata": {
    "colab_type": "text",
    "id": "p4EB787A_WOR"
   },
   "source": [
    "### Linear Simple 2D :\n",
    "        Linear Model : OK\n",
    "        MLP (1, 1)   : OK"
   ]
  },
  {
   "cell_type": "code",
   "execution_count": null,
   "metadata": {
    "colab": {},
    "colab_type": "code",
    "id": "dan93I7A_WOR"
   },
   "outputs": [],
   "source": [
    "X = np.array([\n",
    "      [1],\n",
    "      [2]\n",
    "], dtype='float64')\n",
    "newX = np.array([\n",
    "      [1,1],\n",
    "      [1,2]\n",
    "], dtype='float64')\n",
    "Y = np.array([\n",
    "      2,\n",
    "      3\n",
    "], dtype='float64')"
   ]
  },
  {
   "cell_type": "code",
   "execution_count": null,
   "metadata": {
    "colab": {
     "base_uri": "https://localhost:8080/",
     "height": 287
    },
    "colab_type": "code",
    "id": "6vHbCksm_sQU",
    "outputId": "1e476e34-d3ef-456a-c46e-62de28756946"
   },
   "outputs": [],
   "source": [
    "flattened_X = newX.flatten()\n",
    "\n",
    "model = Linear(my_dll_path)\n",
    "equation_ptr = model.train_linear_model_regression(flattened_X, Y, newX.shape[0] * newX.shape[1])\n",
    "equation = [equation_ptr[i] for i in range(2)]\n",
    "\n",
    "plt.plot([X[0], X[0] * equation[0] + equation[1]], [X[1], X[1] * equation[0] + equation[1]], 'r-', lw=2) # Red straight line\n",
    "plt.scatter(X,Y)\n",
    "plt.show()\n",
    "plt.clf()"
   ]
  },
  {
   "cell_type": "markdown",
   "metadata": {
    "colab_type": "text",
    "id": "CkFb79fq_6ci"
   },
   "source": [
    "### Non Linear Simple 2D :\n",
    "        Linear Model    : OK\n",
    "        MLP (1, ?, 1)   : OK"
   ]
  },
  {
   "cell_type": "code",
   "execution_count": null,
   "metadata": {
    "colab": {},
    "colab_type": "code",
    "id": "sZqi1Yy3_6cj"
   },
   "outputs": [],
   "source": [
    "X = np.array([\n",
    "      [1],\n",
    "      [2],\n",
    "      [3]\n",
    "], dtype='float64')\n",
    "newX = np.array([\n",
    "    [1,1],\n",
    "    [1,2],\n",
    "    [1,3]\n",
    "],dtype='float64')\n",
    "Y = np.array([\n",
    "      2,\n",
    "      3,\n",
    "      2.5\n",
    "],dtype='float64')"
   ]
  },
  {
   "cell_type": "code",
   "execution_count": null,
   "metadata": {
    "colab": {
     "base_uri": "https://localhost:8080/",
     "height": 287
    },
    "colab_type": "code",
    "id": "NSqXDh6c_6ck",
    "outputId": "5e07562b-4b2f-4dc9-b4bd-263ac1b778fd"
   },
   "outputs": [],
   "source": [
    "flattened_X = newX.flatten()\n",
    "model = Linear(my_dll_path)\n",
    "equation_drt = model.train_linear_model_regression(flattened_X,Y,newX.shape[0] * newX.shape[1])\n",
    "equation = [equation_drt[i] for i in range(3)]\n",
    "#plt.plot()\n",
    "plt.scatter(X,Y)\n",
    "plt.show()\n",
    "plt.clf()"
   ]
  },
  {
   "cell_type": "markdown",
   "metadata": {
    "colab_type": "text",
    "id": "WT1s5lZxAJuL"
   },
   "source": [
    "### Linear Simple 3D :\n",
    "        Linear Model    : OK\n",
    "        MLP (2, 1)      : OK"
   ]
  },
  {
   "cell_type": "code",
   "execution_count": null,
   "metadata": {
    "colab": {},
    "colab_type": "code",
    "id": "KL_IanGMAJuM"
   },
   "outputs": [],
   "source": [
    "X = np.array([\n",
    "      [1, 1],\n",
    "      [2, 2],\n",
    "      [3, 1]\n",
    "], dtype='float64')\n",
    "Y = np.array([\n",
    "      2,\n",
    "      3,\n",
    "      2.5\n",
    "], dtype='float64')"
   ]
  },
  {
   "cell_type": "code",
   "execution_count": null,
   "metadata": {
    "colab": {
     "base_uri": "https://localhost:8080/",
     "height": 337
    },
    "colab_type": "code",
    "id": "91dQpMIzAJuO",
    "outputId": "c1681d4c-3b99-429c-fa3f-6b8ef879e0de"
   },
   "outputs": [],
   "source": [
    "from mpl_toolkits.mplot3d import Axes3D\n",
    "'''\n",
    "normal = np.array([1, 1, 2])\n",
    "xx, yy = np.meshgrid(range(10), range(10))\n",
    "z = (-normal[0] * xx - normal[1] * yy) * 1. /normal[2]\n",
    "plt3d = plt.figure().gca(projection='3d')\n",
    "plt3d.plot_surface(xx, yy, z, alpha=0.2)\n",
    "'''\n",
    "\n",
    "model = Linear(my_dll_path)\n",
    "equation_ptr = model.train_linear_model_regression(X.flatten(), Y, X.shape[0] * X.shape[1])\n",
    "#equation = [equation_ptr[i] for i in range(3)]\n",
    "#print(equation)\n",
    "print(model.predict_linear_model_regression(X[0]))\n",
    "#print(equation[0] * (X[0][0] * X[0][0]) + equation[1] * Y[0] + equation[2])\n",
    "\n",
    "fig = plt.figure()\n",
    "\n",
    "ax = Axes3D(fig)\n",
    "ax.scatter(X[:,0],X[:,1],Y)\n",
    "plt.show()\n",
    "plt.clf()"
   ]
  },
  {
   "cell_type": "markdown",
   "metadata": {
    "colab_type": "text",
    "id": "kO361TllBqbm"
   },
   "source": [
    "### Linear Tricky 3D :\n",
    "        Linear Model    : OK\n",
    "        MLP (2, 1)      : OK"
   ]
  },
  {
   "cell_type": "code",
   "execution_count": null,
   "metadata": {
    "colab": {},
    "colab_type": "code",
    "id": "nR_i7qLxBqbm"
   },
   "outputs": [],
   "source": [
    "X = np.array([\n",
    "      [1, 1],\n",
    "      [2, 2],\n",
    "      [3, 3]\n",
    "])\n",
    "Y = np.array([\n",
    "      1,\n",
    "      2,\n",
    "      3\n",
    "])"
   ]
  },
  {
   "cell_type": "code",
   "execution_count": null,
   "metadata": {
    "colab": {
     "base_uri": "https://localhost:8080/",
     "height": 337
    },
    "colab_type": "code",
    "id": "dHriVYrKBqbo",
    "outputId": "681a33c5-8ad5-427a-beea-eaf2a4e268ac"
   },
   "outputs": [],
   "source": [
    "from mpl_toolkits.mplot3d import Axes3D\n",
    "fig = plt.figure()\n",
    "ax = Axes3D(fig)\n",
    "ax.scatter(X[:,0],X[:,1],Y)\n",
    "plt.show()\n",
    "plt.clf()"
   ]
  },
  {
   "cell_type": "markdown",
   "metadata": {
    "colab_type": "text",
    "id": "H_h0_vtCBEzk"
   },
   "source": [
    "### Non Linear Simple 3D :\n",
    "        Linear Model       : KO\n",
    "        MLP (2, 2, 1)      : OK"
   ]
  },
  {
   "cell_type": "code",
   "execution_count": null,
   "metadata": {
    "colab": {},
    "colab_type": "code",
    "id": "ij70I1H9BEzk"
   },
   "outputs": [],
   "source": [
    "X = np.array([\n",
    "      [1, 0],\n",
    "      [0, 1],\n",
    "      [1, 1],\n",
    "      [0, 0],\n",
    "])\n",
    "Y = np.array([\n",
    "      2,\n",
    "      1,\n",
    "      -2,\n",
    "      -1\n",
    "])"
   ]
  },
  {
   "cell_type": "code",
   "execution_count": null,
   "metadata": {
    "colab": {
     "base_uri": "https://localhost:8080/",
     "height": 337
    },
    "colab_type": "code",
    "id": "N3VDOby8BEzn",
    "outputId": "ef903fb3-08ed-4afd-f1e0-bcaed828b118"
   },
   "outputs": [],
   "source": [
    "from mpl_toolkits.mplot3d import Axes3D\n",
    "fig = plt.figure()\n",
    "ax = Axes3D(fig)\n",
    "ax.scatter(X[:,0],X[:,1],Y)\n",
    "plt.show()\n",
    "plt.clf()"
   ]
  }
 ],
 "metadata": {
  "colab": {
   "collapsed_sections": [],
   "name": "2019-3A-IBD-TestCases.ipynb",
   "provenance": [],
   "version": "0.3.2"
  },
  "kernelspec": {
   "display_name": "Python 3",
   "language": "python",
   "name": "python3"
  },
  "language_info": {
   "codemirror_mode": {
    "name": "ipython",
    "version": 3
   },
   "file_extension": ".py",
   "mimetype": "text/x-python",
   "name": "python",
   "nbconvert_exporter": "python",
   "pygments_lexer": "ipython3",
   "version": "3.7.6"
  }
 },
 "nbformat": 4,
 "nbformat_minor": 1
}