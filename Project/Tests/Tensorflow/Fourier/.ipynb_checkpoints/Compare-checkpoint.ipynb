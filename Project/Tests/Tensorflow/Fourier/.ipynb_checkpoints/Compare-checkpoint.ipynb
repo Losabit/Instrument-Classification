{
 "cells": [
  {
   "cell_type": "code",
   "execution_count": 6,
   "metadata": {},
   "outputs": [],
   "source": [
    "import csv\n",
    "import os\n",
    "import tensorflow as tf\n",
    "import tensorflow.keras as keras\n",
    "import numpy as np\n",
    "import matplotlib.pyplot as plt\n",
    "import random\n",
    "import sys\n",
    "sys.path.append('../../../Lib/PythonML')\n",
    "\n",
    "from linear import Linear\n",
    "from multicouche import MLP\n",
    "from random import randrange\n",
    "from tensorflow.keras.utils import to_categorical\n",
    "from tensorflow.keras.models import Sequential\n",
    "from tensorflow.keras.layers import Dense, Activation, Conv2D, MaxPooling2D"
   ]
  },
  {
   "cell_type": "code",
   "execution_count": 7,
   "metadata": {},
   "outputs": [],
   "source": [
    "frequency_max = 12000\n",
    "frequency_precision = 1\n",
    "labels = ['guitare','saxo', 'piano']\n",
    "dll_path = '../../../Lib/SupervisingML/target/debug/libmllib_rust.so'"
   ]
  },
  {
   "cell_type": "code",
   "execution_count": 8,
   "metadata": {},
   "outputs": [],
   "source": [
    "def getCsvData(path):\n",
    "    with open(path, newline='\\n') as f:\n",
    "        reader = csv.reader(f, delimiter=';')\n",
    "        next(reader, None)\n",
    "        data = [] \n",
    "        count = 0\n",
    "        #0,1 -> 0 2,3 -> 1 4,5 -> 2\n",
    "        for row in reader:\n",
    "            if len(data) == (frequency_max * 2 * frequency_precision):\n",
    "                #raise ValueError('Bad data size expected ' + str(frequency_max * 2 * frequency_precision) + ' and found ' + str(len(data)) + ' for ' + path)\n",
    "                break\n",
    "            frequency = float(row[0])\n",
    "            if frequency > frequency_max:\n",
    "                break\n",
    "            if int(frequency) * 2 + 1 < count:\n",
    "                continue\n",
    "            count += 1\n",
    "            data.append([float(row[0]), float(row[1])])\n",
    "       \n",
    "        return data\n",
    "\n",
    "def importData(path, label_number = len(labels)):\n",
    "    data = []\n",
    "    label = []\n",
    "    if label_number > len(labels):\n",
    "        label_number = len(labels)\n",
    "    for i in range(label_number):\n",
    "        directory_path = os.path.join(path, labels[i])\n",
    "        for r, _, f in os.walk(directory_path):\n",
    "            for file in f:\n",
    "                data.append(getCsvData(os.path.join(directory_path, file)))\n",
    "                label.append(i)\n",
    "    return (np.array(data, dtype='float64'), np.array(label, dtype='float64'))\n",
    "\n",
    "def shuffle(data,label):\n",
    "    for i in range(len(label)):\n",
    "        rand = random.randrange(i,len(label))\n",
    "        label[i], label[rand] = label[rand], label[i]\n",
    "        data[i], data[rand] = data[rand], data[i]\n",
    "    return (data,label)\n",
    "\n",
    "#def fit_folder(path):"
   ]
  },
  {
   "cell_type": "code",
   "execution_count": 12,
   "metadata": {},
   "outputs": [
    {
     "name": "stdout",
     "output_type": "stream",
     "text": [
      "Import Finish\n",
      "(89, 24000, 2)\n"
     ]
    }
   ],
   "source": [
    "train_data, train_label = importData('../Fourier/dataset/train', 2)\n",
    "validation_data, validation_label = importData('../Fourier/dataset/validation', 2)\n",
    "print(\"Import Finish\")\n",
    "\n",
    "train_data, train_label = shuffle(train_data, train_label)\n",
    "validation_data, validation_label = shuffle(validation_data, validation_label)  \n",
    "#data = np.concatenate(train_data, validation_data) \n",
    "#label = ..."
   ]
  },
  {
   "cell_type": "code",
   "execution_count": null,
   "metadata": {},
   "outputs": [],
   "source": [
    "train_label = to_categorical(train_label)\n",
    "\n",
    "model = Sequential()\n",
    "model.add(Dense(1, activation='linear', input_shape=train_data.shape[1:]))\n",
    "model.summary()\n",
    "model.compile(optimizer = 'adam', loss = 'categorical_crossentropy')\n",
    "model.fit(train_data, train_label, epochs= 1000)"
   ]
  },
  {
   "cell_type": "code",
   "execution_count": 15,
   "metadata": {},
   "outputs": [
    {
     "name": "stdout",
     "output_type": "stream",
     "text": [
      "predicted result : -1.0 / result : 1.0\n",
      "predicted result : 1.0 / result : 1.0\n",
      "predicted result : 1.0 / result : 1.0\n",
      "predicted result : -1.0 / result : -1.0\n",
      "predicted result : 1.0 / result : 1.0\n",
      "predicted result : 1.0 / result : -1.0\n",
      "predicted result : 1.0 / result : -1.0\n",
      "predicted result : 1.0 / result : 1.0\n",
      "predicted result : 1.0 / result : -1.0\n",
      "predicted result : -1.0 / result : 1.0\n",
      "predicted result : 1.0 / result : -1.0\n",
      "predicted result : -1.0 / result : 1.0\n",
      "predicted result : 1.0 / result : 1.0\n",
      "predicted result : 1.0 / result : -1.0\n",
      "predicted result : 1.0 / result : 1.0\n",
      "predicted result : -1.0 / result : -1.0\n",
      "predicted result : 1.0 / result : -1.0\n",
      "predicted result : 1.0 / result : -1.0\n",
      "predicted result : 1.0 / result : 1.0\n",
      "predicted result : 1.0 / result : 1.0\n",
      "predicted result : -1.0 / result : -1.0\n",
      "predicted result : 1.0 / result : 1.0\n",
      "predicted result : -1.0 / result : -1.0\n",
      "predicted result : -1.0 / result : -1.0\n"
     ]
    }
   ],
   "source": [
    "linear = Linear(dll_path)\n",
    "linear.init_linear_model(frequency_max * 2 * frequency_precision * 2)\n",
    "linear.train_linear_model_classification(train_data.flatten(), train_label.flatten(), len(train_label), 10000, 0.03)\n",
    "\n",
    "for i in range(len(validation_data)):\n",
    "    predicted_value = linear.predict_linear_model_classification(validation_data[i])\n",
    "    print(\"predicted result : \" + str(predicted_value) + \" / result : \" + str(validation_label[i]))"
   ]
  },
  {
   "cell_type": "code",
   "execution_count": null,
   "metadata": {},
   "outputs": [],
   "source": [
    "model = keras.Sequential([\n",
    "    keras.layers.Flatten(input_shape=data.shape[1:]),\n",
    "    keras.layers.Dense(12, activation='relu'),\n",
    "    keras.layers.Dense(3)\n",
    "])\n",
    "\n",
    "model.compile(optimizer='adam',\n",
    "              loss=tf.keras.losses.SparseCategoricalCrossentropy(from_logits=True),\n",
    "              metrics=['accuracy'])\n",
    "model.summary()\n",
    "history = model.fit(data, label, validation_split = 0.1, epochs=100)\n",
    "\n",
    "plt.plot(history.history['accuracy'])\n",
    "plt.plot(history.history['val_accuracy'])\n",
    "plt.title('model accuracy')\n",
    "plt.ylabel('accuracy')\n",
    "plt.xlabel('epoch')\n",
    "plt.legend(['train', 'test'], loc='upper left')\n",
    "plt.show()\n",
    "\n",
    "plt.plot(history.history['loss'])\n",
    "plt.plot(history.history['val_loss'])\n",
    "plt.title('model loss')\n",
    "plt.ylabel('loss')\n",
    "plt.xlabel('epoch')\n",
    "plt.legend(['train', 'test'], loc='upper left')\n",
    "plt.show()"
   ]
  },
  {
   "cell_type": "code",
   "execution_count": null,
   "metadata": {},
   "outputs": [],
   "source": [
    "mlp = MLP(dll_path)\n",
    "mlp.init_multicouche_model(np.array([train_data.shape[1] * train_data.shape[2],1], dtype='float64'))\n",
    "mlp.train_multicouche_model_classification(train_data.flatten(), train_label.flatten(), train_data.shape[0], 10000.0, 0.03)\n",
    "\n",
    "for i in range(len(validation_data)):\n",
    "    predicted_value = mlp.predict_multicouche_model_classification(validation_data)[0]\n",
    "    print(\"predicted result : \" + str(predicted_value) + \" / result : \" + str(validation_label[i]))"
   ]
  }
 ],
 "metadata": {
  "kernelspec": {
   "display_name": "Python 3",
   "language": "python",
   "name": "python3"
  },
  "language_info": {
   "codemirror_mode": {
    "name": "ipython",
    "version": 3
   },
   "file_extension": ".py",
   "mimetype": "text/x-python",
   "name": "python",
   "nbconvert_exporter": "python",
   "pygments_lexer": "ipython3",
   "version": "3.7.6"
  }
 },
 "nbformat": 4,
 "nbformat_minor": 4
}
